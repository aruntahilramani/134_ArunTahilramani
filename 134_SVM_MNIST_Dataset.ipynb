{
  "nbformat": 4,
  "nbformat_minor": 0,
  "metadata": {
    "colab": {
      "name": "SVM_MNIST_Dataset.ipynb",
      "provenance": [],
      "collapsed_sections": [],
      "include_colab_link": true
    },
    "kernelspec": {
      "display_name": "Python 3 (ipykernel)",
      "language": "python",
      "name": "python3"
    },
    "language_info": {
      "codemirror_mode": {
        "name": "ipython",
        "version": 3
      },
      "file_extension": ".py",
      "mimetype": "text/x-python",
      "name": "python",
      "nbconvert_exporter": "python",
      "pygments_lexer": "ipython3",
      "version": "3.8.1"
    }
  },
  "cells": [
    {
      "cell_type": "markdown",
      "metadata": {
        "id": "view-in-github",
        "colab_type": "text"
      },
      "source": [
        "<a href=\"https://colab.research.google.com/github/aruntahilramani/134_ArunTahilramani/blob/master/134_SVM_MNIST_Dataset.ipynb\" target=\"_parent\"><img src=\"https://colab.research.google.com/assets/colab-badge.svg\" alt=\"Open In Colab\"/></a>"
      ]
    },
    {
      "cell_type": "markdown",
      "metadata": {
        "id": "f0-Qcj1XSGoh"
      },
      "source": [
        "**Assignment**:\n",
        "\n",
        "Try SVM classifier on MNIST dataset, compare the performance of linear, polynomial and RBF kernels.\n"
      ]
    },
    {
      "cell_type": "code",
      "metadata": {
        "id": "XSZNc2YkR_lk"
      },
      "source": [
        "import numpy as np\n",
        "import matplotlib.pyplot as plt\n",
        "from sklearn.svm import SVC\n",
        "from sklearn.model_selection import train_test_split"
      ],
      "execution_count": 1,
      "outputs": []
    },
    {
      "cell_type": "code",
      "metadata": {
        "colab": {
          "base_uri": "https://localhost:8080/"
        },
        "id": "DOTonxaMBVmk",
        "outputId": "b970db68-c42c-47e9-813d-e8e5a35f5dbe"
      },
      "source": [
        "# Load MNIST Dataset\n",
        "from tensorflow.keras.datasets import mnist\n",
        "(X_train, y_train), (X_test, y_test) = mnist.load_data()"
      ],
      "execution_count": 2,
      "outputs": [
        {
          "output_type": "stream",
          "name": "stdout",
          "text": [
            "Downloading data from https://storage.googleapis.com/tensorflow/tf-keras-datasets/mnist.npz\n",
            "11493376/11490434 [==============================] - 0s 0us/step\n",
            "11501568/11490434 [==============================] - 0s 0us/step\n"
          ]
        }
      ]
    },
    {
      "cell_type": "code",
      "metadata": {
        "colab": {
          "base_uri": "https://localhost:8080/"
        },
        "id": "Vzl1LpVXDqrQ",
        "scrolled": true,
        "outputId": "b1708275-b750-4e32-814e-9bc01349ace1"
      },
      "source": [
        "# print the features\n",
        "print(X_train[:2])\n",
        "# print the labels\n",
        "print(y_train[:2])"
      ],
      "execution_count": 3,
      "outputs": [
        {
          "output_type": "stream",
          "name": "stdout",
          "text": [
            "[[[0 0 0 ... 0 0 0]\n",
            "  [0 0 0 ... 0 0 0]\n",
            "  [0 0 0 ... 0 0 0]\n",
            "  ...\n",
            "  [0 0 0 ... 0 0 0]\n",
            "  [0 0 0 ... 0 0 0]\n",
            "  [0 0 0 ... 0 0 0]]\n",
            "\n",
            " [[0 0 0 ... 0 0 0]\n",
            "  [0 0 0 ... 0 0 0]\n",
            "  [0 0 0 ... 0 0 0]\n",
            "  ...\n",
            "  [0 0 0 ... 0 0 0]\n",
            "  [0 0 0 ... 0 0 0]\n",
            "  [0 0 0 ... 0 0 0]]]\n",
            "[5 0]\n"
          ]
        }
      ]
    },
    {
      "cell_type": "code",
      "metadata": {
        "colab": {
          "base_uri": "https://localhost:8080/"
        },
        "id": "v8nQd9UCiJOJ",
        "outputId": "292adc48-92f6-4b91-b8ed-3cc7eb3c88fd"
      },
      "source": [
        "# Size of training and testing\n",
        "print('X_train : ', X_train.data.shape)\n",
        "print('y_train : ', y_train.data.shape)\n",
        "print('X_test : ', X_test.data.shape)\n",
        "print('y_test : ', y_test.data.shape)"
      ],
      "execution_count": 4,
      "outputs": [
        {
          "output_type": "stream",
          "name": "stdout",
          "text": [
            "X_train :  (60000, 28, 28)\n",
            "y_train :  (60000,)\n",
            "X_test :  (10000, 28, 28)\n",
            "y_test :  (10000,)\n"
          ]
        }
      ]
    },
    {
      "cell_type": "code",
      "metadata": {
        "id": "juUxOaGWiJOK"
      },
      "source": [
        "# Working with sample_size as the dataset is large\n",
        "# Considering 10000 images and giving 8000 images to training and 2000 images to testing\n",
        "train_sample_size = 8000\n",
        "test_sample_size = 2000\n",
        "\n",
        "X_train = X_train[:train_sample_size]\n",
        "y_train = y_train[:train_sample_size]\n",
        "X_test = X_test[:test_sample_size]\n",
        "y_test = y_test[:test_sample_size]"
      ],
      "execution_count": 5,
      "outputs": []
    },
    {
      "cell_type": "code",
      "metadata": {
        "colab": {
          "base_uri": "https://localhost:8080/"
        },
        "id": "v92nLMCfiJOL",
        "outputId": "2de8b8c4-19db-4f07-a2ec-334177948b0d"
      },
      "source": [
        "print('X_train : ', X_train.data.shape)\n",
        "print('y_train : ', y_train.data.shape)\n",
        "print('X_test : ', X_test.data.shape)\n",
        "print('y_test : ', y_test.data.shape)"
      ],
      "execution_count": 6,
      "outputs": [
        {
          "output_type": "stream",
          "name": "stdout",
          "text": [
            "X_train :  (8000, 28, 28)\n",
            "y_train :  (8000,)\n",
            "X_test :  (2000, 28, 28)\n",
            "y_test :  (2000,)\n"
          ]
        }
      ]
    },
    {
      "cell_type": "code",
      "metadata": {
        "id": "WgUXh4nBIY8c"
      },
      "source": [
        "# fit needs 2D array for training \n",
        "# So reshaping the numpy array from (sample_size, 28, 28) to (sample_size, 784)\n",
        "\n",
        "samples, x, y = X_train.shape\n",
        "X_train = X_train.reshape((samples, x*y))\n",
        "\n",
        "samples, x, y = X_test.shape\n",
        "X_test = X_test.reshape((samples, x*y))"
      ],
      "execution_count": 7,
      "outputs": []
    },
    {
      "cell_type": "markdown",
      "metadata": {
        "id": "g7YpFO2IBqzm"
      },
      "source": [
        "**Linear Kernel**"
      ]
    },
    {
      "cell_type": "code",
      "metadata": {
        "id": "QKjdqc-WBbKm"
      },
      "source": [
        "# Create a model with linear kernel\n",
        "# C - regularization (0-1)\n",
        "# gamma\n",
        "linearModel = SVC(kernel='linear')"
      ],
      "execution_count": 8,
      "outputs": []
    },
    {
      "cell_type": "code",
      "metadata": {
        "id": "FQgZ40RzI12N",
        "colab": {
          "base_uri": "https://localhost:8080/"
        },
        "outputId": "d6b43808-d38e-418e-cb40-a2ccc8622bb9"
      },
      "source": [
        "# fit needs 2D array for training \n",
        "linearModel.fit(X_train, y_train)"
      ],
      "execution_count": 9,
      "outputs": [
        {
          "output_type": "execute_result",
          "data": {
            "text/plain": [
              "SVC(C=1.0, break_ties=False, cache_size=200, class_weight=None, coef0=0.0,\n",
              "    decision_function_shape='ovr', degree=3, gamma='scale', kernel='linear',\n",
              "    max_iter=-1, probability=False, random_state=None, shrinking=True,\n",
              "    tol=0.001, verbose=False)"
            ]
          },
          "metadata": {},
          "execution_count": 9
        }
      ]
    },
    {
      "cell_type": "code",
      "metadata": {
        "id": "ZLn6kfhOFa2n",
        "colab": {
          "base_uri": "https://localhost:8080/"
        },
        "outputId": "6c16758d-69d7-4327-b3a2-f6291d96e19a"
      },
      "source": [
        "# Model analysis\n",
        "print('Linear kernel score : ', linearModel.score(X_test, y_test))"
      ],
      "execution_count": 10,
      "outputs": [
        {
          "output_type": "stream",
          "name": "stdout",
          "text": [
            "Linear kernel score :  0.887\n"
          ]
        }
      ]
    },
    {
      "cell_type": "markdown",
      "metadata": {
        "id": "JTkFpkn0CAU6"
      },
      "source": [
        "**Polynomial Kernel**"
      ]
    },
    {
      "cell_type": "code",
      "metadata": {
        "id": "_uRy0LIfCDV-"
      },
      "source": [
        "# Create a model with polynomial kernel\n",
        "polynomialModel = SVC(kernel='poly')"
      ],
      "execution_count": 11,
      "outputs": []
    },
    {
      "cell_type": "code",
      "metadata": {
        "id": "eUADPQjWLE61",
        "colab": {
          "base_uri": "https://localhost:8080/"
        },
        "outputId": "547aef81-4e01-470c-b252-45d0e8eea221"
      },
      "source": [
        "# fit needs 2D array for training \n",
        "polynomialModel.fit(X_train, y_train)"
      ],
      "execution_count": 12,
      "outputs": [
        {
          "output_type": "execute_result",
          "data": {
            "text/plain": [
              "SVC(C=1.0, break_ties=False, cache_size=200, class_weight=None, coef0=0.0,\n",
              "    decision_function_shape='ovr', degree=3, gamma='scale', kernel='poly',\n",
              "    max_iter=-1, probability=False, random_state=None, shrinking=True,\n",
              "    tol=0.001, verbose=False)"
            ]
          },
          "metadata": {},
          "execution_count": 12
        }
      ]
    },
    {
      "cell_type": "code",
      "metadata": {
        "id": "EhLh66bsLNlK",
        "colab": {
          "base_uri": "https://localhost:8080/"
        },
        "outputId": "a11517ba-720b-49ef-d7fe-5091acd0e022"
      },
      "source": [
        "# Model analysis\n",
        "print('Polynomial kernel score : ', polynomialModel.score(X_test, y_test))"
      ],
      "execution_count": 13,
      "outputs": [
        {
          "output_type": "stream",
          "name": "stdout",
          "text": [
            "Polynomial kernel score :  0.9255\n"
          ]
        }
      ]
    },
    {
      "cell_type": "markdown",
      "metadata": {
        "id": "CKf5DzogCEwU"
      },
      "source": [
        "**RBF Kernel**"
      ]
    },
    {
      "cell_type": "code",
      "metadata": {
        "id": "3w4cht_9CHee"
      },
      "source": [
        "# Create a model with rbf kernel\n",
        "rbfModel = SVC(kernel='rbf')"
      ],
      "execution_count": 14,
      "outputs": []
    },
    {
      "cell_type": "code",
      "metadata": {
        "id": "SxdXEQymLOg5",
        "colab": {
          "base_uri": "https://localhost:8080/"
        },
        "outputId": "c33660dc-727d-482a-c7df-be8e247e1b16"
      },
      "source": [
        "# fit needs 2D array for training \n",
        "rbfModel.fit(X_train, y_train)"
      ],
      "execution_count": 15,
      "outputs": [
        {
          "output_type": "execute_result",
          "data": {
            "text/plain": [
              "SVC(C=1.0, break_ties=False, cache_size=200, class_weight=None, coef0=0.0,\n",
              "    decision_function_shape='ovr', degree=3, gamma='scale', kernel='rbf',\n",
              "    max_iter=-1, probability=False, random_state=None, shrinking=True,\n",
              "    tol=0.001, verbose=False)"
            ]
          },
          "metadata": {},
          "execution_count": 15
        }
      ]
    },
    {
      "cell_type": "code",
      "metadata": {
        "id": "63bmv9LtLl6Y",
        "colab": {
          "base_uri": "https://localhost:8080/"
        },
        "outputId": "188780dd-b62e-462a-fa68-342dd4421432"
      },
      "source": [
        "# Model analysis\n",
        "print('Rbf kernel score : ', rbfModel.score(X_test, y_test))"
      ],
      "execution_count": 16,
      "outputs": [
        {
          "output_type": "stream",
          "name": "stdout",
          "text": [
            "Rbf kernel score :  0.942\n"
          ]
        }
      ]
    }
  ]
}