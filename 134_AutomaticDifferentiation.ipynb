{
  "nbformat": 4,
  "nbformat_minor": 0,
  "metadata": {
    "kernelspec": {
      "display_name": "Python 3",
      "language": "python",
      "name": "python3"
    },
    "language_info": {
      "codemirror_mode": {
        "name": "ipython",
        "version": 3
      },
      "file_extension": ".py",
      "mimetype": "text/x-python",
      "name": "python",
      "nbconvert_exporter": "python",
      "pygments_lexer": "ipython3",
      "version": "3.8.10"
    },
    "colab": {
      "name": "AutomaticDifferentiation.ipynb",
      "provenance": [],
      "include_colab_link": true
    }
  },
  "cells": [
    {
      "cell_type": "markdown",
      "metadata": {
        "id": "view-in-github",
        "colab_type": "text"
      },
      "source": [
        "<a href=\"https://colab.research.google.com/github/aruntahilramani/134_ArunTahilramani/blob/master/134_AutomaticDifferentiation.ipynb\" target=\"_parent\"><img src=\"https://colab.research.google.com/assets/colab-badge.svg\" alt=\"Open In Colab\"/></a>"
      ]
    },
    {
      "cell_type": "code",
      "metadata": {
        "id": "sHxv1n_LpmVI"
      },
      "source": [
        "import numpy as np\n",
        "import matplotlib.pyplot as plt\n",
        "\n",
        "import tensorflow as tf\n"
      ],
      "execution_count": 1,
      "outputs": []
    },
    {
      "cell_type": "markdown",
      "metadata": {
        "id": "sDyJvKtUpmVO"
      },
      "source": [
        "## Computing gradients \n",
        " - **To differentiate automatically, TensorFlow needs to remember what operations happen in what order during the forward pass. Then, during the backward pass, TensorFlow traverses this list of operations in reverse order to compute gradients.**\n",
        " \n",
        "## Gradient tapes\n",
        "- **TensorFlow provides the tf.GradientTape API for automatic differentiation; that is, computing the gradient of a computation with respect to some inputs, usually tf.Variables. TensorFlow \"records\" relevant operations executed inside the context of a tf.GradientTape onto a \"tape\". TensorFlow then uses that tape to compute the gradients of a \"recorded\" computation using reverse mode differentiation.**"
      ]
    },
    {
      "cell_type": "code",
      "metadata": {
        "colab": {
          "base_uri": "https://localhost:8080/"
        },
        "id": "QPtinp8gpmVQ",
        "outputId": "cfae4a5d-f4de-4162-97eb-372a4d03a1fe"
      },
      "source": [
        "x = tf.Variable(3.0)\n",
        "\n",
        "with tf.GradientTape() as tape:\n",
        "    y = x**2\n",
        "    \n",
        "dy_dx = tape.gradient(y, x)\n",
        "print(f\"dy_dx : {dy_dx.numpy()} , y: {y.numpy()} , x : {x.numpy()}\")\n",
        "\n",
        "\n",
        "with tf.GradientTape() as tape1:\n",
        "    y = tf.sin(x)\n",
        "    \n",
        "dy_dx = tape1.gradient(y, x)\n",
        "print(f\"dy_dx : {dy_dx.numpy()} , y: {y.numpy()} , x : {x.numpy()}\")\n",
        "print(f\"dy_dx ::\",-np.cos(x.numpy()))\n",
        "\n",
        "print(x)"
      ],
      "execution_count": 2,
      "outputs": [
        {
          "output_type": "stream",
          "name": "stdout",
          "text": [
            "dy_dx : 6.0 , y: 9.0 , x : 3.0\n",
            "dy_dx : -0.9899924993515015 , y: 0.14112000167369843 , x : 3.0\n",
            "dy_dx :: 0.9899925\n",
            "<tf.Variable 'Variable:0' shape=() dtype=float32, numpy=3.0>\n"
          ]
        }
      ]
    },
    {
      "cell_type": "code",
      "metadata": {
        "id": "oZ8zcNy6pmVS"
      },
      "source": [
        "import torch"
      ],
      "execution_count": 3,
      "outputs": []
    },
    {
      "cell_type": "code",
      "metadata": {
        "colab": {
          "base_uri": "https://localhost:8080/"
        },
        "id": "h5oWVh0-pmVS",
        "outputId": "2121998a-9f90-451a-a9b4-636346ee8d73"
      },
      "source": [
        "x=torch.tensor(3.0, requires_grad=True)  \n",
        "z=torch.tensor(4.0, requires_grad=True)  \n",
        "\n",
        "y=x**2+z**3  \n",
        "y.backward()  \n",
        "print(x.grad)  \n",
        "print(z.grad)  \n",
        "\n",
        "x.grad.zero_(),z.grad.zero_()\n",
        "\n",
        "y = x.sin()\n",
        "y.backward()  \n",
        "print(x.grad)\n",
        "\n"
      ],
      "execution_count": 4,
      "outputs": [
        {
          "output_type": "stream",
          "name": "stdout",
          "text": [
            "tensor(6.)\n",
            "tensor(48.)\n",
            "tensor(-0.9900)\n"
          ]
        }
      ]
    },
    {
      "cell_type": "code",
      "metadata": {
        "colab": {
          "base_uri": "https://localhost:8080/"
        },
        "id": "cczO3VkopmVT",
        "outputId": "f18e29f6-27ef-4e40-de72-b62ad202a07a"
      },
      "source": [
        "T = torch.tensor([[1,2],[3,4]])\n",
        "T1 = torch.tensor([10,-10])\n",
        "T+T1"
      ],
      "execution_count": 5,
      "outputs": [
        {
          "output_type": "execute_result",
          "data": {
            "text/plain": [
              "tensor([[11, -8],\n",
              "        [13, -6]])"
            ]
          },
          "metadata": {},
          "execution_count": 5
        }
      ]
    },
    {
      "cell_type": "code",
      "metadata": {
        "colab": {
          "base_uri": "https://localhost:8080/"
        },
        "id": "VGniJDyYpmVT",
        "outputId": "6ddaf113-479d-49fc-f23b-f13eb9fb470e"
      },
      "source": [
        "torch.cuda.is_available()"
      ],
      "execution_count": 6,
      "outputs": [
        {
          "output_type": "execute_result",
          "data": {
            "text/plain": [
              "False"
            ]
          },
          "metadata": {},
          "execution_count": 6
        }
      ]
    }
  ]
}