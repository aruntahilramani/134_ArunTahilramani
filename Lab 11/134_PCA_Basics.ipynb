{
  "nbformat": 4,
  "nbformat_minor": 5,
  "metadata": {
    "kernelspec": {
      "display_name": "Python 3 (ipykernel)",
      "language": "python",
      "name": "python3"
    },
    "language_info": {
      "codemirror_mode": {
        "name": "ipython",
        "version": 3
      },
      "file_extension": ".py",
      "mimetype": "text/x-python",
      "name": "python",
      "nbconvert_exporter": "python",
      "pygments_lexer": "ipython3",
      "version": "3.8.1"
    },
    "colab": {
      "name": "134_PCA_Basics.ipynb",
      "provenance": [],
      "include_colab_link": true
    }
  },
  "cells": [
    {
      "cell_type": "markdown",
      "metadata": {
        "id": "view-in-github",
        "colab_type": "text"
      },
      "source": [
        "<a href=\"https://colab.research.google.com/github/aruntahilramani/134_ArunTahilramani/blob/master/Lab%2011/134_PCA_Basics.ipynb\" target=\"_parent\"><img src=\"https://colab.research.google.com/assets/colab-badge.svg\" alt=\"Open In Colab\"/></a>"
      ]
    },
    {
      "cell_type": "code",
      "metadata": {
        "id": "c912bf2b"
      },
      "source": [
        "import numpy as np                    # Linear algebra library\n",
        "import matplotlib.pyplot as plt       # library for visualization\n",
        "from sklearn.decomposition import PCA # PCA library\n",
        "import pandas as pd                   # Data frame library\n",
        "import math                           # Library for math functions\n",
        "import random                         # Library for pseudo random numbers"
      ],
      "id": "c912bf2b",
      "execution_count": 1,
      "outputs": []
    },
    {
      "cell_type": "code",
      "metadata": {
        "colab": {
          "base_uri": "https://localhost:8080/",
          "height": 265
        },
        "id": "0b6d57cc",
        "outputId": "4586bc61-72d3-4b21-fd1b-eaa2905f4e19"
      },
      "source": [
        "n = 1 # The amount of the correlation\n",
        "\n",
        "x = np.random.uniform(1,2,1000) # Generate 1000 samples from a uniform random variable\n",
        "y = x.copy() * n # Make y = n * x\n",
        "\n",
        "# PCA works better if the data is centered\n",
        "x = x - np.mean(x) # Center x. Remove its mean\n",
        "y = y - np.mean(y) # Center y. Remove its mean\n",
        "\n",
        "data = pd.DataFrame({'x': x, 'y': y}) # Create a data frame with x and y\n",
        "plt.scatter(data.x, data.y)           # Plot the original correlated data in blue\n",
        "pca = PCA(n_components = 2)           # Instantiate a PCA. Choose to get 2 output variables\n",
        "\n",
        "# Create the transformation model for this data. Internally, it gets the rotation \n",
        "# matrix and the explained variance\n",
        "pcaTr = pca.fit(data)\n",
        "rotatedData = pcaTr.transform(data)  # Transform the data base on the rotation matrix of pcaTr\n",
        "\n",
        "# Create a data frame with the new variables. We call these new variables PC1 and PC2\n",
        "dataPCA = pd.DataFrame(data = rotatedData, columns = ['PC1', 'PC2'])\n",
        "\n",
        "# Plot the transformed data in orange\n",
        "plt.scatter(dataPCA.PC1, dataPCA.PC2)\n",
        "plt.show()"
      ],
      "id": "0b6d57cc",
      "execution_count": 2,
      "outputs": [
        {
          "output_type": "display_data",
          "data": {
            "image/png": "[encoded data removed]",
            "text/plain": [
              "<Figure size 432x288 with 1 Axes>"
            ]
          },
          "metadata": {
            "needs_background": "light"
          }
        }
      ]
    },
    {
      "cell_type": "code",
      "metadata": {
        "colab": {
          "base_uri": "https://localhost:8080/"
        },
        "id": "a1ac7e3a",
        "outputId": "6a1b848e-4f4d-4cf7-c180-8c2c1b8fdd4c"
      },
      "source": [
        "print('Eigenvectors or principal component: First row must be in the direction of [1, n]')\n",
        "print(pcaTr.components_)\n",
        "print()\n",
        "print('Eigenvalues or explained variance')\n",
        "print(pcaTr.explained_variance_)"
      ],
      "id": "a1ac7e3a",
      "execution_count": 3,
      "outputs": [
        {
          "output_type": "stream",
          "name": "stdout",
          "text": [
            "Eigenvectors or principal component: First row must be in the direction of [1, n]\n",
            "[[ 0.70710678  0.70710678]\n",
            " [ 0.70710678 -0.70710678]]\n",
            "\n",
            "Eigenvalues or explained variance\n",
            "[1.73144663e-01 4.91716354e-33]\n"
          ]
        }
      ]
    },
    {
      "cell_type": "code",
      "metadata": {
        "id": "f7f141b0"
      },
      "source": [
        "import matplotlib.lines as mlines\n",
        "import matplotlib.transforms as mtransforms\n",
        "\n",
        "random.seed(134)\n",
        "\n",
        "std1 = 1 # The desired standard deviation of our first random variable\n",
        "std2 = 0.333 # The desired standard deviation of our second random variable\n",
        "\n",
        "x = np.random.normal(0, std1, 1000) # Get 1000 samples from x ~ N(0, std1)\n",
        "y = np.random.normal(0, std2, 1000) # Get 1000 samples from y ~ N(0, std2)\n",
        "#y = y + np.random.normal(0,1,1000)*noiseLevel * np.sin(0.78)\n",
        "\n",
        "# PCA works better if the data is centered\n",
        "x = x - np.mean(x) # Center x\n",
        "y = y - np.mean(y) # Center y\n",
        "\n",
        "# Define a pair of dependent variables with a desired amount of covariance\n",
        "n = 1 # Magnitude of covariance.\n",
        "angle = np.arctan(1 / n) # Convert the covariance to and angle\n",
        "print('angle: ', angle * 180 / math.pi)\n",
        "\n",
        "# Create a rotation matrix using the given angle\n",
        "rotationMatrix = np.array([[np.cos(angle), np.sin(angle)],\n",
        "[-np.sin(angle), np.cos(angle)]])\n",
        "\n",
        "print('rotationMatrix')\n",
        "print(rotationMatrix)\n",
        "\n",
        "xy = np.concatenate(([x] , [y]), axis=0).T # Create a matrix with columns x and y\n",
        "\n",
        "# Transform the data using the rotation matrix. It correlates the two variables\n",
        "data = np.dot(xy, rotationMatrix) # Return a nD array\n",
        "\n",
        "# Print the rotated data\n",
        "plt.scatter(data[:,0], data[:,1])\n",
        "plt.show()"
      ],
      "id": "f7f141b0",
      "execution_count": null,
      "outputs": []
    },
    {
      "cell_type": "code",
      "metadata": {
        "colab": {
          "base_uri": "https://localhost:8080/",
          "height": 366
        },
        "id": "077751c9",
        "outputId": "d3b9105f-5cc3-416b-e4d2-36fab58f34e0"
      },
      "source": [
        "plt.scatter(data[:,0], data[:,1])     # Print the original data in blue\n",
        "\n",
        "# Apply PCA. In theory, the Eigenvector matrix must be the\n",
        "# inverse of the original rotationMatrix.\n",
        "pca = PCA(n_components = 2) # Instantiate a PCA. Choose to get 2 output variables\n",
        "\n",
        "# Create the transformation model for this data. Internally it gets the rotation\n",
        "# matrix and the explained variance\n",
        "pcaTr = pca.fit(data)\n",
        "\n",
        "# Create an array with the transformed data\n",
        "dataPCA = pcaTr.transform(data)\n",
        "print('Eigenvectors or principal component: First row must be in the direction of [1, n]')\n",
        "print(pcaTr.components_)\n",
        "print()\n",
        "print('Eigenvalues or explained variance')\n",
        "print(pcaTr.explained_variance_)\n",
        "\n",
        "# Print the rotated data\n",
        "plt.scatter(dataPCA[:,0], dataPCA[:,1])\n",
        "\n",
        "# Plot the first component axe. Use the explained variance to scale the vector\n",
        "plt.plot([0, rotationMatrix[0][0] * std1 * 3], [0, rotationMatrix[0][1] * std1 * 3], 'k-', color='red')\n",
        "\n",
        "# Plot the second component axe. Use the explained variance to scale the vector\n",
        "plt.plot([0, rotationMatrix[1][0] * std2 * 3], [0, rotationMatrix[1][1] * std2 * 3], 'k-', color='green')\n",
        "plt.show()"
      ],
      "id": "077751c9",
      "execution_count": 5,
      "outputs": [
        {
          "output_type": "stream",
          "name": "stdout",
          "text": [
            "Eigenvectors or principal component: First row must be in the direction of [1, n]\n",
            "[[-0.71820387 -0.69583274]\n",
            " [ 0.69583274 -0.71820387]]\n",
            "\n",
            "Eigenvalues or explained variance\n",
            "[1.00140881 0.11593342]\n"
          ]
        },
        {
          "output_type": "display_data",
          "data": {
            "image/png": "[encoded data removed]",
            "text/plain": [
              "<Figure size 432x288 with 1 Axes>"
            ]
          },
          "metadata": {
            "needs_background": "light"
          }
        }
      ]
    },
    {
      "cell_type": "code",
      "metadata": {
        "colab": {
          "base_uri": "https://localhost:8080/",
          "height": 265
        },
        "id": "e53fed3d",
        "outputId": "caa50e25-ad0e-48c7-d505-7e689e8d68fc"
      },
      "source": [
        "nPoints = len(data)\n",
        "# Plot the original data in blue\n",
        "plt.scatter(data[:,0], data[:,1])\n",
        "#Plot the projection along the first component in orange\n",
        "plt.scatter(data[:,0], np.zeros(nPoints))\n",
        "#Plot the projection along the second component in green\n",
        "plt.scatter(np.zeros(nPoints), data[:,1])\n",
        "plt.show()"
      ],
      "id": "e53fed3d",
      "execution_count": 6,
      "outputs": [
        {
          "output_type": "display_data",
          "data": {
            "image/png": "[encoded data removed]",
            "text/plain": [
              "<Figure size 432x288 with 1 Axes>"
            ]
          },
          "metadata": {
            "needs_background": "light"
          }
        }
      ]
    }
  ]
}