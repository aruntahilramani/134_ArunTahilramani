{
  "nbformat": 4,
  "nbformat_minor": 0,
  "metadata": {
    "colab": {
      "name": "SVM_MNIST_Dataset.ipynb",
      "provenance": [],
      "collapsed_sections": [],
      "include_colab_link": true
    },
    "kernelspec": {
      "display_name": "Python 3 (ipykernel)",
      "language": "python",
      "name": "python3"
    },
    "language_info": {
      "codemirror_mode": {
        "name": "ipython",
        "version": 3
      },
      "file_extension": ".py",
      "mimetype": "text/x-python",
      "name": "python",
      "nbconvert_exporter": "python",
      "pygments_lexer": "ipython3",
      "version": "3.8.1"
    }
  },
  "cells": [
    {
      "cell_type": "markdown",
      "metadata": {
        "id": "view-in-github",
        "colab_type": "text"
      },
      "source": [
        "<a href=\"https://colab.research.google.com/github/aruntahilramani/134_ArunTahilramani/blob/master/Lab9/134_SVM_MNIST_Dataset.ipynb\" target=\"_parent\"><img src=\"https://colab.research.google.com/assets/colab-badge.svg\" alt=\"Open In Colab\"/></a>"
      ]
    },
    {
      "cell_type": "markdown",
      "metadata": {
        "id": "f0-Qcj1XSGoh"
      },
      "source": [
        "**Assignment**:\n",
        "\n",
        "Try SVM classifier on MNIST dataset, compare the performance of linear, polynomial and RBF kernels.\n"
      ]
    },
    {
      "cell_type": "code",
      "metadata": {
        "id": "XSZNc2YkR_lk"
      },
      "source": [
        "import numpy as np\n",
        "import matplotlib.pyplot as plt\n",
        "from sklearn.svm import SVC\n",
        "from sklearn.model_selection import train_test_split"
      ],
      "execution_count": 1,
      "outputs": []
    },
    {
      "cell_type": "code",
      "metadata": {
        "colab": {
          "base_uri": "https://localhost:8080/"
        },
        "id": "DOTonxaMBVmk",
        "outputId": "3224ba59-1785-43d2-c15c-1c2da289665e"
      },
      "source": [
        "# Load MNIST Dataset\n",
        "from tensorflow.keras.datasets import mnist\n",
        "(X_train, y_train), (X_test, y_test) = mnist.load_data()"
      ],
      "execution_count": 2,
      "outputs": [
        {
          "output_type": "stream",
          "name": "stdout",
          "text": [
            "Downloading data from https://storage.googleapis.com/tensorflow/tf-keras-datasets/mnist.npz\n",
            "11493376/11490434 [==============================] - 0s 0us/step\n",
            "11501568/11490434 [==============================] - 0s 0us/step\n"
          ]
        }
      ]
    },
    {
      "cell_type": "code",
      "metadata": {
        "colab": {
          "base_uri": "https://localhost:8080/"
        },
        "id": "Vzl1LpVXDqrQ",
        "scrolled": true,
        "outputId": "61ae4f51-cda9-49b3-ed63-96a7560df5a4"
      },
      "source": [
        "# print the features\n",
        "print(X_train[:2])\n",
        "# print the labels\n",
        "print(y_train[:2])"
      ],
      "execution_count": 3,
      "outputs": [
        {
          "output_type": "stream",
          "name": "stdout",
          "text": [
            "[[[0 0 0 ... 0 0 0]\n",
            "  [0 0 0 ... 0 0 0]\n",
            "  [0 0 0 ... 0 0 0]\n",
            "  ...\n",
            "  [0 0 0 ... 0 0 0]\n",
            "  [0 0 0 ... 0 0 0]\n",
            "  [0 0 0 ... 0 0 0]]\n",
            "\n",
            " [[0 0 0 ... 0 0 0]\n",
            "  [0 0 0 ... 0 0 0]\n",
            "  [0 0 0 ... 0 0 0]\n",
            "  ...\n",
            "  [0 0 0 ... 0 0 0]\n",
            "  [0 0 0 ... 0 0 0]\n",
            "  [0 0 0 ... 0 0 0]]]\n",
            "[5 0]\n"
          ]
        }
      ]
    },
    {
      "cell_type": "code",
      "metadata": {
        "colab": {
          "base_uri": "https://localhost:8080/"
        },
        "id": "v8nQd9UCiJOJ",
        "outputId": "79e41feb-ba86-4df8-d258-42af8a28fe6e"
      },
      "source": [
        "# Size of training and testing\n",
        "print('X_train : ', X_train.data.shape)\n",
        "print('y_train : ', y_train.data.shape)\n",
        "print('X_test : ', X_test.data.shape)\n",
        "print('y_test : ', y_test.data.shape)"
      ],
      "execution_count": 4,
      "outputs": [
        {
          "output_type": "stream",
          "name": "stdout",
          "text": [
            "X_train :  (60000, 28, 28)\n",
            "y_train :  (60000,)\n",
            "X_test :  (10000, 28, 28)\n",
            "y_test :  (10000,)\n"
          ]
        }
      ]
    },
    {
      "cell_type": "code",
      "metadata": {
        "id": "juUxOaGWiJOK"
      },
      "source": [
        "# Working with sample_size as the dataset is large\n",
        "# Considering 10000 images and giving 8000 images to training and 2000 images to testing\n",
        "train_sample_size = 8000\n",
        "test_sample_size = 2000\n",
        "\n",
        "X_train = X_train[:train_sample_size]\n",
        "y_train = y_train[:train_sample_size]\n",
        "X_test = X_test[:test_sample_size]\n",
        "y_test = y_test[:test_sample_size]"
      ],
      "execution_count": 5,
      "outputs": []
    },
    {
      "cell_type": "code",
      "metadata": {
        "colab": {
          "base_uri": "https://localhost:8080/"
        },
        "id": "v92nLMCfiJOL",
        "outputId": "58a5cd49-aa9c-4787-c2b4-2dc69cfd95d4"
      },
      "source": [
        "print('X_train : ', X_train.data.shape)\n",
        "print('y_train : ', y_train.data.shape)\n",
        "print('X_test : ', X_test.data.shape)\n",
        "print('y_test : ', y_test.data.shape)"
      ],
      "execution_count": 6,
      "outputs": [
        {
          "output_type": "stream",
          "name": "stdout",
          "text": [
            "X_train :  (8000, 28, 28)\n",
            "y_train :  (8000,)\n",
            "X_test :  (2000, 28, 28)\n",
            "y_test :  (2000,)\n"
          ]
        }
      ]
    },
    {
      "cell_type": "code",
      "metadata": {
        "id": "WgUXh4nBIY8c"
      },
      "source": [
        "# fit needs 2D array for training \n",
        "# So reshaping the numpy array from (sample_size, 28, 28) to (sample_size, 784)\n",
        "\n",
        "samples, x, y = X_train.shape\n",
        "X_train = X_train.reshape((samples, x*y))\n",
        "\n",
        "samples, x, y = X_test.shape\n",
        "X_test = X_test.reshape((samples, x*y))"
      ],
      "execution_count": 7,
      "outputs": []
    },
    {
      "cell_type": "markdown",
      "metadata": {
        "id": "g7YpFO2IBqzm"
      },
      "source": [
        "**Linear Kernel**"
      ]
    },
    {
      "cell_type": "code",
      "metadata": {
        "id": "QKjdqc-WBbKm"
      },
      "source": [
        "# Create a model with linear kernel\n",
        "# C - regularization (0-1)\n",
        "# gamma\n",
        "linearModel = SVC(kernel='linear')"
      ],
      "execution_count": 8,
      "outputs": []
    },
    {
      "cell_type": "code",
      "metadata": {
        "id": "FQgZ40RzI12N",
        "colab": {
          "base_uri": "https://localhost:8080/"
        },
        "outputId": "ff414c15-74ac-4f1d-af34-ad2888f65239"
      },
      "source": [
        "# fit needs 2D array for training \n",
        "linearModel.fit(X_train, y_train)"
      ],
      "execution_count": 9,
      "outputs": [
        {
          "output_type": "execute_result",
          "data": {
            "text/plain": [
              "SVC(C=1.0, break_ties=False, cache_size=200, class_weight=None, coef0=0.0,\n",
              "    decision_function_shape='ovr', degree=3, gamma='scale', kernel='linear',\n",
              "    max_iter=-1, probability=False, random_state=None, shrinking=True,\n",
              "    tol=0.001, verbose=False)"
            ]
          },
          "metadata": {},
          "execution_count": 9
        }
      ]
    },
    {
      "cell_type": "code",
      "metadata": {
        "id": "ZLn6kfhOFa2n",
        "colab": {
          "base_uri": "https://localhost:8080/"
        },
        "outputId": "991c2320-219c-49c2-ff21-ac0b85753b54"
      },
      "source": [
        "# Model analysis\n",
        "print('Linear kernel score : ', linearModel.score(X_test, y_test))"
      ],
      "execution_count": 10,
      "outputs": [
        {
          "output_type": "stream",
          "name": "stdout",
          "text": [
            "Linear kernel score :  0.887\n"
          ]
        }
      ]
    },
    {
      "cell_type": "markdown",
      "metadata": {
        "id": "JTkFpkn0CAU6"
      },
      "source": [
        "**Polynomial Kernel**"
      ]
    },
    {
      "cell_type": "code",
      "metadata": {
        "id": "_uRy0LIfCDV-"
      },
      "source": [
        "# Create a model with polynomial kernel\n",
        "polynomialModel = SVC(kernel='poly')"
      ],
      "execution_count": 11,
      "outputs": []
    },
    {
      "cell_type": "code",
      "metadata": {
        "id": "eUADPQjWLE61",
        "colab": {
          "base_uri": "https://localhost:8080/"
        },
        "outputId": "141d410e-ecec-45c0-a77d-d2e37dfe0307"
      },
      "source": [
        "# fit needs 2D array for training \n",
        "polynomialModel.fit(X_train, y_train)"
      ],
      "execution_count": 12,
      "outputs": [
        {
          "output_type": "execute_result",
          "data": {
            "text/plain": [
              "SVC(C=1.0, break_ties=False, cache_size=200, class_weight=None, coef0=0.0,\n",
              "    decision_function_shape='ovr', degree=3, gamma='scale', kernel='poly',\n",
              "    max_iter=-1, probability=False, random_state=None, shrinking=True,\n",
              "    tol=0.001, verbose=False)"
            ]
          },
          "metadata": {},
          "execution_count": 12
        }
      ]
    },
    {
      "cell_type": "code",
      "metadata": {
        "id": "EhLh66bsLNlK",
        "colab": {
          "base_uri": "https://localhost:8080/"
        },
        "outputId": "da0da36c-652a-40a4-8088-5c0a20a68742"
      },
      "source": [
        "# Model analysis\n",
        "print('Polynomial kernel score : ', polynomialModel.score(X_test, y_test))"
      ],
      "execution_count": 13,
      "outputs": [
        {
          "output_type": "stream",
          "name": "stdout",
          "text": [
            "Polynomial kernel score :  0.9255\n"
          ]
        }
      ]
    },
    {
      "cell_type": "markdown",
      "metadata": {
        "id": "CKf5DzogCEwU"
      },
      "source": [
        "**RBF Kernel**"
      ]
    },
    {
      "cell_type": "code",
      "metadata": {
        "id": "3w4cht_9CHee"
      },
      "source": [
        "# Create a model with rbf kernel\n",
        "rbfModel = SVC(kernel='rbf')"
      ],
      "execution_count": 14,
      "outputs": []
    },
    {
      "cell_type": "code",
      "metadata": {
        "id": "SxdXEQymLOg5",
        "colab": {
          "base_uri": "https://localhost:8080/"
        },
        "outputId": "adfa59de-add7-47f7-88a9-d0d41c4d9bce"
      },
      "source": [
        "# fit needs 2D array for training \n",
        "rbfModel.fit(X_train, y_train)"
      ],
      "execution_count": 15,
      "outputs": [
        {
          "output_type": "execute_result",
          "data": {
            "text/plain": [
              "SVC(C=1.0, break_ties=False, cache_size=200, class_weight=None, coef0=0.0,\n",
              "    decision_function_shape='ovr', degree=3, gamma='scale', kernel='rbf',\n",
              "    max_iter=-1, probability=False, random_state=None, shrinking=True,\n",
              "    tol=0.001, verbose=False)"
            ]
          },
          "metadata": {},
          "execution_count": 15
        }
      ]
    },
    {
      "cell_type": "code",
      "metadata": {
        "id": "63bmv9LtLl6Y",
        "colab": {
          "base_uri": "https://localhost:8080/"
        },
        "outputId": "055fb1dc-3a8b-4112-e1f5-7508f49e8506"
      },
      "source": [
        "# Model analysis\n",
        "print('Rbf kernel score : ', rbfModel.score(X_test, y_test))"
      ],
      "execution_count": 16,
      "outputs": [
        {
          "output_type": "stream",
          "name": "stdout",
          "text": [
            "Rbf kernel score :  0.942\n"
          ]
        }
      ]
    }
  ]
}